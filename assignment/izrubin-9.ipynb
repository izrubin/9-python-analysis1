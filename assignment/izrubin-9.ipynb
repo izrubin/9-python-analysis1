{
 "cells": [
  {
   "cell_type": "markdown",
   "metadata": {},
   "source": [
    "# Assignment 9: izrubin"
   ]
  },
  {
   "cell_type": "markdown",
   "metadata": {},
   "source": [
    "Fork the `9-python-analysis1` repository and create a new jupyter-notebook \n",
    "in the assignment directory.\n",
    "\n",
    "In your notebook use Markdown text to create a title and explain the content\n",
    "of your notebook to document your code. "
   ]
  },
  {
   "cell_type": "markdown",
   "metadata": {},
   "source": [
    "Use the `records` library to download a series of occurrence records for\n",
    "a taxon of your choice over a period of time, or use *Bombus* as we have been\n",
    "using in class."
   ]
  },
  {
   "cell_type": "code",
   "execution_count": 4,
   "metadata": {},
   "outputs": [],
   "source": [
    "import records"
   ]
  },
  {
   "cell_type": "code",
   "execution_count": 5,
   "metadata": {},
   "outputs": [],
   "source": [
    "# download a series of occurrence records for a taxon of choice over a period of time\n",
    "\n"
   ]
  },
  {
   "cell_type": "markdown",
   "metadata": {},
   "source": [
    "Try to apply a machine learning method from the `scikit-learn` library to \n",
    "the data in the dataframe of your `records.Epochs` object. This will involve\n",
    "the following steps. \n",
    "\n",
    "\t1. Select appropriate columns and format the data so that you have an \n",
    "\tcolumn of labels (y) and one or more columns of features (X). Then split\n",
    "\tit into a training and test data set. \n",
    "\n",
    "\t2. Select a machine learning class from scikit-learn. For this you can \n",
    "\tchoose from many available options. Look to your reading for examples, or\n",
    "\tto the scikit learn documentation. The best way is to find examples of the\n",
    "\tmodel being applied and to substitute your data in for the example data. \n",
    "\n",
    "\t3. Create an instance of that class. \n",
    "\n",
    "\t4. Train your model on your training data set (call `.fit()` with your model).\n",
    "\n",
    "\t5. Get predictions by applying your model to the test data set (call \n",
    "\t`.predict()` with your model). \n",
    "\n",
    "\t6. Measure the accuracy of your model by comparing the predicted values to\n",
    "\tthe actual labels in your test data. \n",
    "\n",
    "\t7. Describe the model that you tried to apply and the question that you \n",
    "\ttried to answer (e.g., I tried to use these features of the data to predict\n",
    "\tthis). How well do you think the model worked?"
   ]
  },
  {
   "cell_type": "code",
   "execution_count": null,
   "metadata": {},
   "outputs": [],
   "source": []
  },
  {
   "cell_type": "markdown",
   "metadata": {},
   "source": [
    "Commit and push your notebook to the assignments directory and make a pull\n",
    "request to the class repository. "
   ]
  }
 ],
 "metadata": {
  "kernelspec": {
   "display_name": "Python 3",
   "language": "python",
   "name": "python3"
  },
  "language_info": {
   "codemirror_mode": {
    "name": "ipython",
    "version": 3
   },
   "file_extension": ".py",
   "mimetype": "text/x-python",
   "name": "python",
   "nbconvert_exporter": "python",
   "pygments_lexer": "ipython3",
   "version": "3.6.5"
  }
 },
 "nbformat": 4,
 "nbformat_minor": 2
}
